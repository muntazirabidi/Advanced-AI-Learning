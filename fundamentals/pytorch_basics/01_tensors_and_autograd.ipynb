{
 "cells": [
  {
   "cell_type": "code",
   "execution_count": 8,
   "metadata": {},
   "outputs": [],
   "source": [
    "import numpy as np\n",
    "import matplotlib.pyplot as plt"
   ]
  },
  {
   "cell_type": "markdown",
   "metadata": {},
   "source": [
    "## Section 1: Tensors - The Building Blocks\n",
    "---------------------------------------\n",
    "Just as vectors and matrices are fundamental in physics, tensors are the basic \n",
    "building blocks in PyTorch. We'll draw parallels between physical quantities \n",
    "and neural network components.\n",
    "\n",
    "### 1.1 Creating Tensors\n",
    "Similar to how we represent physical quantities with different ranks\n",
    "(scalars, vectors, matrices, etc.)"
   ]
  },
  {
   "cell_type": "code",
   "execution_count": 10,
   "metadata": {},
   "outputs": [
    {
     "name": "stdout",
     "output_type": "stream",
     "text": [
      "Scalar (temperature): tensor(3.1400)\n"
     ]
    }
   ],
   "source": [
    "# Scalar (rank-0 tensor) - like temperature at a point\n",
    "scalar = torch.tensor(3.14)\n",
    "print(\"Scalar (temperature):\", scalar)"
   ]
  },
  {
   "cell_type": "code",
   "execution_count": 11,
   "metadata": {},
   "outputs": [
    {
     "name": "stdout",
     "output_type": "stream",
     "text": [
      "Vector (force components): tensor([1., 2., 3.])\n"
     ]
    }
   ],
   "source": [
    "# Vector (rank-1 tensor) - like force or velocity\n",
    "vector = torch.tensor([1.0, 2.0, 3.0])\n",
    "print(\"Vector (force components):\", vector)"
   ]
  },
  {
   "cell_type": "code",
   "execution_count": 12,
   "metadata": {},
   "outputs": [
    {
     "name": "stdout",
     "output_type": "stream",
     "text": [
      "Matrix (stress tensor): tensor([[1., 2.],\n",
      "        [3., 4.]])\n"
     ]
    }
   ],
   "source": [
    "# Matrix (rank-2 tensor) - like stress tensor or moment of inertia\n",
    "matrix = torch.tensor([[1.0, 2.0], \n",
    "                      [3.0, 4.0]])\n",
    "print(\"Matrix (stress tensor):\", matrix)"
   ]
  },
  {
   "cell_type": "markdown",
   "metadata": {},
   "source": [
    "## Section 2: Tensor Operations\n",
    "--------------------------\n",
    "Many operations in physics have direct analogies in deep learning.\n",
    "We'll explore these connections.\n",
    "\n",
    "\n",
    "### 2.1 Matrix Operations\n",
    "Similar to quantum mechanical operators\n",
    "\n",
    "Creating a quantum-like state vector"
   ]
  },
  {
   "cell_type": "code",
   "execution_count": 13,
   "metadata": {},
   "outputs": [],
   "source": [
    "psi = torch.tensor([1.0, 0.0])  # |0⟩ state\n",
    "H = torch.tensor([[1.0, 1.0],   # Hadamard-like operator\n",
    "                 [1.0, -1.0]]) / np.sqrt(2.0)"
   ]
  },
  {
   "cell_type": "code",
   "execution_count": 14,
   "metadata": {},
   "outputs": [
    {
     "name": "stdout",
     "output_type": "stream",
     "text": [
      "\n",
      "Quantum state transformation: tensor([0.7071, 0.7071])\n"
     ]
    }
   ],
   "source": [
    "# Apply operator (matrix multiplication)\n",
    "psi_transformed = H @ psi\n",
    "print(\"\\nQuantum state transformation:\", psi_transformed)"
   ]
  },
  {
   "cell_type": "markdown",
   "metadata": {},
   "source": [
    "### 2.2 Gradients and Backpropagation\n",
    "Similar to finding minimum energy states in physics"
   ]
  },
  {
   "cell_type": "code",
   "execution_count": 15,
   "metadata": {},
   "outputs": [],
   "source": [
    "def potential_energy(x):\n",
    "    \"\"\"Simple harmonic oscillator potential: V(x) = kx²/2\"\"\"\n",
    "    return 0.5 * x**2"
   ]
  },
  {
   "cell_type": "code",
   "execution_count": 16,
   "metadata": {},
   "outputs": [],
   "source": [
    "# Create a tensor with requires_grad=True to track computations\n",
    "x = torch.tensor([2.0], requires_grad=True)\n",
    "V = potential_energy(x)"
   ]
  },
  {
   "cell_type": "code",
   "execution_count": 17,
   "metadata": {},
   "outputs": [
    {
     "name": "stdout",
     "output_type": "stream",
     "text": [
      "\n",
      "Gradient at x=2: tensor([2.])\n"
     ]
    }
   ],
   "source": [
    "# Calculate gradient (dV/dx)\n",
    "V.backward()\n",
    "print(\"\\nGradient at x=2:\", x.grad)  # Should be 2.0 for V(x) = x²/2\n"
   ]
  },
  {
   "cell_type": "markdown",
   "metadata": {},
   "source": [
    "## Section 3: Neural Network Basics\n",
    "------------------------------\n",
    "Building on |our physics intuition to understand neural networks.\n",
    "\n",
    "### 3.1 Activation Functions\n",
    "Similar to response functions in physical systems\n"
   ]
  },
  {
   "cell_type": "code",
   "execution_count": 18,
   "metadata": {},
   "outputs": [],
   "source": [
    "x = torch.linspace(-5, 5, 100)"
   ]
  },
  {
   "cell_type": "code",
   "execution_count": 19,
   "metadata": {},
   "outputs": [],
   "source": [
    "# ReLU (like a threshold response)\n",
    "relu = torch.nn.functional.relu(x)"
   ]
  },
  {
   "cell_type": "code",
   "execution_count": 20,
   "metadata": {},
   "outputs": [],
   "source": [
    "sigmoid = torch.sigmoid(x)"
   ]
  },
  {
   "cell_type": "code",
   "execution_count": 21,
   "metadata": {},
   "outputs": [
    {
     "data": {
      "image/png": "[encoded data removed]",
      "text/plain": [
       "<Figure size 1000x500 with 1 Axes>"
      ]
     },
     "metadata": {},
     "output_type": "display_data"
    }
   ],
   "source": [
    "plt.figure(figsize=(10, 5))\n",
    "plt.plot(x.numpy(), relu.numpy(), label='ReLU')\n",
    "plt.plot(x.numpy(), sigmoid.numpy(), label='Sigmoid')\n",
    "plt.title('Activation Functions')\n",
    "plt.legend()\n",
    "plt.grid(True)\n",
    "plt.show()"
   ]
  },
  {
   "cell_type": "code",
   "execution_count": null,
   "metadata": {},
   "outputs": [],
   "source": []
  }
 ],
 "metadata": {
  "kernelspec": {
   "display_name": "ai_learning",
   "language": "python",
   "name": "python3"
  },
  "language_info": {
   "codemirror_mode": {
    "name": "ipython",
    "version": 3
   },
   "file_extension": ".py",
   "mimetype": "text/x-python",
   "name": "python",
   "nbconvert_exporter": "python",
   "pygments_lexer": "ipython3",
   "version": "3.10.16"
  }
 },
 "nbformat": 4,
 "nbformat_minor": 2
}
