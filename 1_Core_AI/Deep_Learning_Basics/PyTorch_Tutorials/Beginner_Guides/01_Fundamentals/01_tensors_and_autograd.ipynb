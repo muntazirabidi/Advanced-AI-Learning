{
 "cells": [
  {
   "cell_type": "code",
   "execution_count": 2,
   "metadata": {},
   "outputs": [],
   "source": [
    "import numpy as np\n",
    "import matplotlib.pyplot as plt\n",
    "import torch\n",
    "import torch.nn as nn\n",
    "import torch.optim as optim"
   ]
  },
  {
   "cell_type": "markdown",
   "metadata": {},
   "source": [
    "## Section 1: Tensors - The Building Blocks\n",
    "---------------------------------------\n",
    "Just as vectors and matrices are fundamental in physics, tensors are the basic \n",
    "building blocks in PyTorch. We'll draw parallels between physical quantities \n",
    "and neural network components.\n",
    "\n",
    "### 1.1 Creating Tensors\n",
    "Similar to how we represent physical quantities with different ranks\n",
    "(scalars, vectors, matrices, etc.)"
   ]
  },
  {
   "cell_type": "code",
   "execution_count": 3,
   "metadata": {},
   "outputs": [
    {
     "name": "stdout",
     "output_type": "stream",
     "text": [
      "Scalar (temperature): tensor(3.1400)\n"
     ]
    }
   ],
   "source": [
    "# Scalar (rank-0 tensor) - like temperature at a point\n",
    "scalar = torch.tensor(3.14)\n",
    "print(\"Scalar (temperature):\", scalar)"
   ]
  },
  {
   "cell_type": "code",
   "execution_count": 4,
   "metadata": {},
   "outputs": [
    {
     "name": "stdout",
     "output_type": "stream",
     "text": [
      "Vector (force components): tensor([1., 2., 3.])\n",
      "vector multiplication: tensor(14.)\n",
      "Taking Power tensor([1., 4., 9.])\n",
      "Reshaping the vector tensor([[1.],\n",
      "        [2.],\n",
      "        [3.]])\n"
     ]
    }
   ],
   "source": [
    "# Vector (rank-1 tensor) - like force or velocity\n",
    "vector = torch.tensor([1.0, 2.0, 3.0])\n",
    "print(\"Vector (force components):\", vector)\n",
    "print(\"vector multiplication:\", vector @ vector) \n",
    "print(\"Taking Power\", vector.pow(2))\n",
    "print(\"Reshaping the vector\", vector.view(3,1))\n"
   ]
  },
  {
   "cell_type": "code",
   "execution_count": 5,
   "metadata": {},
   "outputs": [
    {
     "name": "stdout",
     "output_type": "stream",
     "text": [
      "Matrix (stress tensor): tensor([[1., 2.],\n",
      "        [3., 4.]])\n"
     ]
    }
   ],
   "source": [
    "# Matrix (rank-2 tensor) - like stress tensor or moment of inertia\n",
    "matrix = torch.tensor([[1.0, 2.0], \n",
    "                      [3.0, 4.0]])\n",
    "print(\"Matrix (stress tensor):\", matrix)"
   ]
  },
  {
   "cell_type": "markdown",
   "metadata": {},
   "source": [
    "## Section 2: Tensor Operations\n",
    "--------------------------\n",
    "Many operations in physics have direct analogies in deep learning.\n",
    "We'll explore these connections.\n",
    "\n",
    "\n",
    "### 2.1 Matrix Operations\n",
    "Similar to quantum mechanical operators\n",
    "\n",
    "Creating a quantum-like state vector"
   ]
  },
  {
   "cell_type": "code",
   "execution_count": 6,
   "metadata": {},
   "outputs": [],
   "source": [
    "psi = torch.tensor([1.0, 0.0])  # |0⟩ state\n",
    "H = torch.tensor([[1.0, 1.0],   # Hadamard-like operator\n",
    "                 [1.0, -1.0]]) / np.sqrt(2.0)"
   ]
  },
  {
   "cell_type": "code",
   "execution_count": 7,
   "metadata": {},
   "outputs": [
    {
     "name": "stdout",
     "output_type": "stream",
     "text": [
      "\n",
      "Quantum state transformation: tensor([0.7071, 0.7071])\n"
     ]
    }
   ],
   "source": [
    "# Apply operator (matrix multiplication)\n",
    "psi_transformed = H @ psi\n",
    "print(\"\\nQuantum state transformation:\", psi_transformed)"
   ]
  },
  {
   "cell_type": "markdown",
   "metadata": {},
   "source": [
    "### 2.2 Gradients and Backpropagation\n",
    "Similar to finding minimum energy states in physics"
   ]
  },
  {
   "cell_type": "code",
   "execution_count": 8,
   "metadata": {},
   "outputs": [],
   "source": [
    "def potential_energy(x):\n",
    "    \"\"\"Simple harmonic oscillator potential: V(x) = kx²/2\"\"\"\n",
    "    return 0.5 * x**2"
   ]
  },
  {
   "cell_type": "code",
   "execution_count": 9,
   "metadata": {},
   "outputs": [],
   "source": [
    "# Create a tensor with requires_grad=True to track computations\n",
    "x = torch.tensor([2.0], requires_grad=True)\n",
    "V = potential_energy(x)"
   ]
  },
  {
   "cell_type": "code",
   "execution_count": 10,
   "metadata": {},
   "outputs": [
    {
     "name": "stdout",
     "output_type": "stream",
     "text": [
      "\n",
      "Gradient at x=2: tensor([2.])\n"
     ]
    }
   ],
   "source": [
    "# Calculate gradient (dV/dx)\n",
    "V.backward()\n",
    "print(\"\\nGradient at x=2:\", x.grad)  # Should be 2.0 for V(x) = x²/2\n"
   ]
  },
  {
   "cell_type": "markdown",
   "metadata": {},
   "source": [
    "## Section 3: Neural Network Basics\n",
    "------------------------------\n",
    "Building on |our physics intuition to understand neural networks.\n",
    "\n",
    "### 3.1 Activation Functions\n",
    "Similar to response functions in physical systems\n"
   ]
  },
  {
   "cell_type": "code",
   "execution_count": 11,
   "metadata": {},
   "outputs": [],
   "source": [
    "x = torch.linspace(-5, 5, 100)"
   ]
  },
  {
   "cell_type": "code",
   "execution_count": 12,
   "metadata": {},
   "outputs": [],
   "source": [
    "# ReLU (like a threshold response)\n",
    "relu = torch.nn.functional.relu(x)"
   ]
  },
  {
   "cell_type": "code",
   "execution_count": 13,
   "metadata": {},
   "outputs": [],
   "source": [
    "sigmoid = torch.sigmoid(x)"
   ]
  },
  {
   "cell_type": "code",
   "execution_count": 14,
   "metadata": {},
   "outputs": [
    {
     "data": {
      "image/png": "[encoded data removed]",
      "text/plain": [
       "<Figure size 1000x500 with 1 Axes>"
      ]
     },
     "metadata": {},
     "output_type": "display_data"
    }
   ],
   "source": [
    "plt.figure(figsize=(10, 5))\n",
    "plt.plot(x.numpy(), relu.numpy(), label='ReLU')\n",
    "plt.plot(x.numpy(), sigmoid.numpy(), label='Sigmoid')\n",
    "plt.title('Activation Functions')\n",
    "plt.legend()\n",
    "plt.grid(True)\n",
    "plt.show()"
   ]
  },
  {
   "cell_type": "markdown",
   "metadata": {},
   "source": [
    "### 3.2 Creating a Simple Neural Network"
   ]
  },
  {
   "cell_type": "code",
   "execution_count": 15,
   "metadata": {},
   "outputs": [],
   "source": [
    "# 1. Check if MPS (Metal Performance Shaders) is available\n",
    "def check_mps_available():\n",
    "    if not torch.backends.mps.is_available():\n",
    "        if not torch.backends.mps.is_built():\n",
    "            print(\"MPS not available because PyTorch was not built with MPS enabled\")\n",
    "        else:\n",
    "            print(\"MPS not available because the current MacOS version is not 12.3+ \"\n",
    "                  \"and/or you do not have an MPS-enabled device\")\n",
    "        return False\n",
    "    return True\n",
    "\n",
    "# 2. Get the appropriate device\n",
    "def get_device():\n",
    "    if check_mps_available():\n",
    "        device = torch.device(\"mps\")\n",
    "        print(\"Using MPS (Apple Silicon GPU)\")\n",
    "    else:\n",
    "        device = torch.device(\"cpu\")\n",
    "        print(\"Using CPU\")\n",
    "    return device"
   ]
  },
  {
   "cell_type": "code",
   "execution_count": 16,
   "metadata": {},
   "outputs": [],
   "source": [
    "class SimpleNN(nn.Module):\n",
    "    def __init__(self):\n",
    "        super(SimpleNN, self).__init__()\n",
    "        self.layer1 = nn.Linear(2, 5)    # 2 features and 5 hidden neurons\n",
    "        self.relu = nn.ReLU()            # activation function\n",
    "        self.layer2 = nn.Linear(5, 1)    # Output layer: 5 -> 1\n",
    "\n",
    "    def forward(self, x):\n",
    "        x = self.layer1(x)\n",
    "        x = self.relu(x)\n",
    "        x = self.layer2(x)\n",
    "        return x"
   ]
  },
  {
   "cell_type": "code",
   "execution_count": 17,
   "metadata": {},
   "outputs": [
    {
     "name": "stdout",
     "output_type": "stream",
     "text": [
      "SimpleNN(\n",
      "  (layer1): Linear(in_features=2, out_features=5, bias=True)\n",
      "  (relu): ReLU()\n",
      "  (layer2): Linear(in_features=5, out_features=1, bias=True)\n",
      ")\n"
     ]
    }
   ],
   "source": [
    "model = SimpleNN()\n",
    "print(model)"
   ]
  },
  {
   "cell_type": "markdown",
   "metadata": {},
   "source": [
    "### 3.2.1 Training Example"
   ]
  },
  {
   "cell_type": "code",
   "execution_count": 18,
   "metadata": {},
   "outputs": [],
   "source": [
    "np.random.seed(42)\n",
    "X = np.random.randn(100,2) # 100 samples and 2 features\n",
    "y = (X[:,0] + X[:, 1] > 0).astype(np.float32) # simple classification rule\n"
   ]
  },
  {
   "cell_type": "code",
   "execution_count": 19,
   "metadata": {},
   "outputs": [],
   "source": [
    "# converting them into tensors\n",
    "\n",
    "X_tensor = torch.FloatTensor(X)\n",
    "y_tensor = torch.FloatTensor(y).view(-1,1)"
   ]
  },
  {
   "cell_type": "code",
   "execution_count": 20,
   "metadata": {},
   "outputs": [],
   "source": [
    "# define optimizer and loss functions\n",
    "criterion = nn.BCEWithLogitsLoss() # Binary cross entropy loss\n",
    "optimizer = optim.SGD(model.parameters(), lr=0.01)"
   ]
  },
  {
   "cell_type": "code",
   "execution_count": 21,
   "metadata": {},
   "outputs": [
    {
     "name": "stdout",
     "output_type": "stream",
     "text": [
      "Training the Model ....\n",
      "Epoch [20/100], Loss: 0.6700\n",
      "Epoch [40/100], Loss: 0.6547\n",
      "Epoch [60/100], Loss: 0.6398\n",
      "Epoch [80/100], Loss: 0.6253\n",
      "Epoch [100/100], Loss: 0.6110\n",
      "Epoch [120/100], Loss: 0.5967\n",
      "Epoch [140/100], Loss: 0.5822\n",
      "Epoch [160/100], Loss: 0.5680\n",
      "Epoch [180/100], Loss: 0.5540\n",
      "Epoch [200/100], Loss: 0.5400\n",
      "Epoch [220/100], Loss: 0.5260\n",
      "Epoch [240/100], Loss: 0.5121\n",
      "Epoch [260/100], Loss: 0.4984\n",
      "Epoch [280/100], Loss: 0.4847\n",
      "Epoch [300/100], Loss: 0.4710\n",
      "Epoch [320/100], Loss: 0.4575\n",
      "Epoch [340/100], Loss: 0.4440\n",
      "Epoch [360/100], Loss: 0.4308\n",
      "Epoch [380/100], Loss: 0.4179\n",
      "Epoch [400/100], Loss: 0.4055\n",
      "Epoch [420/100], Loss: 0.3934\n",
      "Epoch [440/100], Loss: 0.3818\n",
      "Epoch [460/100], Loss: 0.3706\n",
      "Epoch [480/100], Loss: 0.3599\n",
      "Epoch [500/100], Loss: 0.3495\n",
      "Epoch [520/100], Loss: 0.3396\n",
      "Epoch [540/100], Loss: 0.3301\n",
      "Epoch [560/100], Loss: 0.3209\n",
      "Epoch [580/100], Loss: 0.3121\n",
      "Epoch [600/100], Loss: 0.3037\n",
      "Epoch [620/100], Loss: 0.2957\n",
      "Epoch [640/100], Loss: 0.2879\n",
      "Epoch [660/100], Loss: 0.2805\n",
      "Epoch [680/100], Loss: 0.2732\n",
      "Epoch [700/100], Loss: 0.2661\n",
      "Epoch [720/100], Loss: 0.2593\n",
      "Epoch [740/100], Loss: 0.2527\n",
      "Epoch [760/100], Loss: 0.2464\n",
      "Epoch [780/100], Loss: 0.2404\n",
      "Epoch [800/100], Loss: 0.2346\n",
      "Epoch [820/100], Loss: 0.2290\n",
      "Epoch [840/100], Loss: 0.2237\n",
      "Epoch [860/100], Loss: 0.2186\n",
      "Epoch [880/100], Loss: 0.2137\n",
      "Epoch [900/100], Loss: 0.2091\n",
      "Epoch [920/100], Loss: 0.2046\n",
      "Epoch [940/100], Loss: 0.2003\n",
      "Epoch [960/100], Loss: 0.1962\n",
      "Epoch [980/100], Loss: 0.1923\n",
      "Epoch [1000/100], Loss: 0.1885\n"
     ]
    }
   ],
   "source": [
    "print(\"Training the Model ....\")\n",
    "\n",
    "for epoch in range(1000):\n",
    "  outputs = model(X_tensor)\n",
    "  loss = criterion(outputs, y_tensor)\n",
    "  \n",
    "  # backward pass and optimization \n",
    "  optimizer.zero_grad()\n",
    "  loss.backward()\n",
    "  optimizer.step()\n",
    "  \n",
    "  \n",
    "  if (epoch + 1) % 20 == 0:\n",
    "    print(f'Epoch [{epoch + 1}/100], Loss: {loss.item():.4f}')"
   ]
  },
  {
   "cell_type": "code",
   "execution_count": 22,
   "metadata": {},
   "outputs": [
    {
     "name": "stdout",
     "output_type": "stream",
     "text": [
      "Available device: cpu\n"
     ]
    }
   ],
   "source": [
    "# GPU Support if available\n",
    "device = torch.device(\"cuda\" if torch.cuda.is_available() else 'cpu')\n",
    "\n",
    "print(f\"Available device: {device}\")"
   ]
  },
  {
   "cell_type": "code",
   "execution_count": 26,
   "metadata": {},
   "outputs": [
    {
     "name": "stdout",
     "output_type": "stream",
     "text": [
      "Collecting sns\n",
      "  Downloading sns-0.1.tar.gz (2.1 kB)\n",
      "  Preparing metadata (setup.py) ... \u001b[?25ldone\n",
      "\u001b[?25hBuilding wheels for collected packages: sns\n",
      "  Building wheel for sns (setup.py) ... \u001b[?25ldone\n",
      "\u001b[?25h  Created wheel for sns: filename=sns-0.1-py3-none-any.whl size=2639 sha256=97015e2175bca617517dc1c70a701f64bb41e3535e59972e66127ec9057573b6\n",
      "  Stored in directory: /Users/muntazirabidi/Library/Caches/pip/wheels/76/1a/47/c3b6a8b9d3ae47b1488f4be13c86586327c07e0ac1bb5b3337\n",
      "Successfully built sns\n",
      "Installing collected packages: sns\n",
      "Successfully installed sns-0.1\n",
      "Note: you may need to restart the kernel to use updated packages.\n"
     ]
    }
   ],
   "source": [
    "pip install sns"
   ]
  },
  {
   "cell_type": "code",
   "execution_count": 28,
   "metadata": {},
   "outputs": [
    {
     "data": {
      "image/png": "[encoded data removed]",
      "text/plain": [
       "<Figure size 1200x700 with 1 Axes>"
      ]
     },
     "metadata": {},
     "output_type": "display_data"
    }
   ],
   "source": [
    "import numpy as np\n",
    "import matplotlib.pyplot as plt\n",
    "\n",
    "# Create data points\n",
    "x = np.linspace(-5, 5, 1000)\n",
    "relu = np.maximum(0, x)\n",
    "\n",
    "# Create the figure with a specific size\n",
    "plt.figure(figsize=(12, 7))\n",
    "\n",
    "# Plot ReLU function with a thicker line\n",
    "plt.plot(x, relu, linewidth=3, label='ReLU', color='#FF4B4B')\n",
    "\n",
    "# Add horizontal and vertical lines at 0\n",
    "plt.axhline(y=0, color='gray', linestyle='--', alpha=0.3)\n",
    "plt.axvline(x=0, color='gray', linestyle='--', alpha=0.3)\n",
    "\n",
    "# Customize the plot\n",
    "plt.title('ReLU Activation Function', fontsize=20, pad=20, weight='bold')\n",
    "plt.xlabel('Input (x)', fontsize=14)\n",
    "plt.ylabel('ReLU(x) = max(0, x)', fontsize=14)\n",
    "\n",
    "# Add formula\n",
    "plt.text(0.5, 4, r'$f(x) = \\max(0, x)$', fontsize=16, \n",
    "         bbox=dict(facecolor='white', alpha=0.8))\n",
    "\n",
    "# Customize grid\n",
    "plt.grid(True, alpha=0.3)\n",
    "\n",
    "# Set axis limits\n",
    "plt.xlim(-5, 5)\n",
    "plt.ylim(-0.5, 5)\n",
    "\n",
    "# Add legend\n",
    "plt.legend(fontsize=12)\n",
    "\n",
    "# Adjust layout\n",
    "plt.tight_layout()\n",
    "\n",
    "plt.show()"
   ]
  },
  {
   "cell_type": "code",
   "execution_count": null,
   "metadata": {},
   "outputs": [],
   "source": []
  }
 ],
 "metadata": {
  "kernelspec": {
   "display_name": "ai_learning",
   "language": "python",
   "name": "python3"
  },
  "language_info": {
   "codemirror_mode": {
    "name": "ipython",
    "version": 3
   },
   "file_extension": ".py",
   "mimetype": "text/x-python",
   "name": "python",
   "nbconvert_exporter": "python",
   "pygments_lexer": "ipython3",
   "version": "3.10.13"
  }
 },
 "nbformat": 4,
 "nbformat_minor": 2
}
